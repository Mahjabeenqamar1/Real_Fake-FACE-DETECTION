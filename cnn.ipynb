{
  "nbformat": 4,
  "nbformat_minor": 0,
  "metadata": {
    "colab": {
      "name": "cnn.ipynb",
      "provenance": [],
      "include_colab_link": true
    },
    "kernelspec": {
      "name": "python3",
      "display_name": "Python 3"
    },
    "language_info": {
      "name": "python"
    }
  },
  "cells": [
    {
      "cell_type": "markdown",
      "metadata": {
        "id": "view-in-github",
        "colab_type": "text"
      },
      "source": [
        "<a href=\"https://colab.research.google.com/github/Mahjabeenqamar1/Real_Fake-FACE-DETECTION/blob/main/cnn.ipynb\" target=\"_parent\"><img src=\"https://colab.research.google.com/assets/colab-badge.svg\" alt=\"Open In Colab\"/></a>"
      ]
    },
    {
      "cell_type": "code",
      "execution_count": null,
      "metadata": {
        "id": "Sr0OmqISjBvp"
      },
      "outputs": [],
      "source": [
        "# example of loading the mnist dataset\n",
        "from tensorflow.keras.datasets import mnist\n",
        "from matplotlib import pyplot as plt\n",
        "\n"
      ]
    },
    {
      "cell_type": "code",
      "source": [
        "# load dataset\n",
        "(X_train, Y_train), (X_test, Y_test) = mnist.load_data()"
      ],
      "metadata": {
        "id": "UIzV-NjwjaMQ"
      },
      "execution_count": null,
      "outputs": []
    },
    {
      "cell_type": "code",
      "source": [
        "print('Train: X=%s, y=%s' % (X_train.shape, Y_train.shape))\n",
        "print('Test: X=%s, y=%s' % (X_test.shape, Y_test.shape))"
      ],
      "metadata": {
        "colab": {
          "base_uri": "https://localhost:8080/"
        },
        "id": "uM1yTX65jcg4",
        "outputId": "5c474d59-9400-4ddb-ac2f-eb0da8ed2e90"
      },
      "execution_count": null,
      "outputs": [
        {
          "output_type": "stream",
          "name": "stdout",
          "text": [
            "Train: X=(60000, 28, 28), y=(60000,)\n",
            "Test: X=(10000, 28, 28), y=(10000,)\n"
          ]
        }
      ]
    },
    {
      "cell_type": "code",
      "source": [
        "from tensorflow.keras.utils import to_categorical\n",
        "Y_train = to_categorical(trainy)\n",
        "Y_test = to_categorical(testy)"
      ],
      "metadata": {
        "id": "rtGDGGzujpnj"
      },
      "execution_count": null,
      "outputs": []
    },
    {
      "cell_type": "code",
      "source": [
        "X_train = trainX.reshape((trainX.shape[0], 28, 28, 1))\n",
        "X_test = testX.reshape((testX.shape[0], 28, 28, 1))"
      ],
      "metadata": {
        "id": "bOR9Qz_3kQYQ"
      },
      "execution_count": null,
      "outputs": []
    },
    {
      "cell_type": "code",
      "source": [
        "# convert from integers to floats\n",
        "train_norm = trainX.astype('float32')\n",
        "test_norm = testX.astype('float32')\n",
        "# normalize to range 0-1\n",
        "trainX = train_norm / 255.0\n",
        "testX = test_norm / 255.0"
      ],
      "metadata": {
        "id": "ZhVTN6NHkerZ"
      },
      "execution_count": null,
      "outputs": []
    },
    {
      "cell_type": "code",
      "source": [
        "from tensorflow.keras.utils import to_categorical\n",
        "from tensorflow.keras.models import Sequential\n",
        "from tensorflow.keras.layers import Conv2D\n",
        "from tensorflow.keras.layers import MaxPooling2D\n",
        "from tensorflow.keras.layers import Dense\n",
        "from tensorflow.keras.layers import Flatten\n",
        "from tensorflow.keras.optimizers import SGD"
      ],
      "metadata": {
        "id": "PMfdGlUQlDvN"
      },
      "execution_count": null,
      "outputs": []
    },
    {
      "cell_type": "code",
      "source": [
        "model = Sequential()\n",
        "model.add(Conv2D(32, (3, 3), activation='relu', input_shape=(28, 28, 1)))\n",
        "model.add(MaxPooling2D((2, 2)))\n",
        "model.add(Flatten())\n",
        "model.add(Dense(100, activation='relu'))\n",
        "model.add(Dense(10, activation='softmax'))\n",
        "\n"
      ],
      "metadata": {
        "id": "UwJFsz4-li_Y"
      },
      "execution_count": null,
      "outputs": []
    },
    {
      "cell_type": "code",
      "source": [
        "model.summary()"
      ],
      "metadata": {
        "colab": {
          "base_uri": "https://localhost:8080/"
        },
        "id": "qVqTnGkPAUV1",
        "outputId": "d472bb10-3e82-4c6d-aed9-0a3561d33437"
      },
      "execution_count": null,
      "outputs": [
        {
          "output_type": "stream",
          "name": "stdout",
          "text": [
            "Model: \"sequential_1\"\n",
            "_________________________________________________________________\n",
            " Layer (type)                Output Shape              Param #   \n",
            "=================================================================\n",
            " conv2d_1 (Conv2D)           (None, 26, 26, 32)        320       \n",
            "                                                                 \n",
            " max_pooling2d_1 (MaxPooling  (None, 13, 13, 32)       0         \n",
            " 2D)                                                             \n",
            "                                                                 \n",
            " flatten_1 (Flatten)         (None, 5408)              0         \n",
            "                                                                 \n",
            " dense_2 (Dense)             (None, 100)               540900    \n",
            "                                                                 \n",
            " dense_3 (Dense)             (None, 10)                1010      \n",
            "                                                                 \n",
            "=================================================================\n",
            "Total params: 542,230\n",
            "Trainable params: 542,230\n",
            "Non-trainable params: 0\n",
            "_________________________________________________________________\n"
          ]
        }
      ]
    },
    {
      "cell_type": "code",
      "source": [
        "# compile model\n",
        "opt = SGD(learning_rate=0.01, momentum=0.9)\n",
        "model.compile(optimizer=opt, loss='categorical_crossentropy', metrics=['accuracy'])"
      ],
      "metadata": {
        "id": "1ZevoO9cAS8-"
      },
      "execution_count": null,
      "outputs": []
    },
    {
      "cell_type": "code",
      "source": [
        "# fit model\n",
        "model.fit(X_train, Y_train, epochs=10, batch_size=32, validation_data=(X_test, Y_test))"
      ],
      "metadata": {
        "colab": {
          "base_uri": "https://localhost:8080/"
        },
        "id": "s-3kR2eclzbx",
        "outputId": "27764c65-1011-4d13-d852-572b1183ea67"
      },
      "execution_count": null,
      "outputs": [
        {
          "output_type": "stream",
          "name": "stdout",
          "text": [
            "Epoch 1/10\n",
            "1875/1875 [==============================] - 29s 16ms/step - loss: 0.2415 - accuracy: 0.9273 - val_loss: 0.1041 - val_accuracy: 0.9673\n",
            "Epoch 2/10\n",
            "1875/1875 [==============================] - 30s 16ms/step - loss: 0.0805 - accuracy: 0.9762 - val_loss: 0.0532 - val_accuracy: 0.9819\n",
            "Epoch 3/10\n",
            "1875/1875 [==============================] - 29s 16ms/step - loss: 0.0533 - accuracy: 0.9841 - val_loss: 0.0492 - val_accuracy: 0.9833\n",
            "Epoch 4/10\n",
            "1875/1875 [==============================] - 30s 16ms/step - loss: 0.0397 - accuracy: 0.9876 - val_loss: 0.0509 - val_accuracy: 0.9834\n",
            "Epoch 5/10\n",
            "1875/1875 [==============================] - 30s 16ms/step - loss: 0.0295 - accuracy: 0.9907 - val_loss: 0.0491 - val_accuracy: 0.9833\n",
            "Epoch 6/10\n",
            "1875/1875 [==============================] - 30s 16ms/step - loss: 0.0210 - accuracy: 0.9936 - val_loss: 0.0397 - val_accuracy: 0.9871\n",
            "Epoch 7/10\n",
            "1875/1875 [==============================] - 30s 16ms/step - loss: 0.0168 - accuracy: 0.9949 - val_loss: 0.0446 - val_accuracy: 0.9862\n",
            "Epoch 8/10\n",
            "1875/1875 [==============================] - 30s 16ms/step - loss: 0.0117 - accuracy: 0.9966 - val_loss: 0.0493 - val_accuracy: 0.9856\n",
            "Epoch 9/10\n",
            "1875/1875 [==============================] - 30s 16ms/step - loss: 0.0099 - accuracy: 0.9972 - val_loss: 0.0459 - val_accuracy: 0.9864\n",
            "Epoch 10/10\n",
            "1875/1875 [==============================] - 30s 16ms/step - loss: 0.0067 - accuracy: 0.9981 - val_loss: 0.0471 - val_accuracy: 0.9870\n"
          ]
        },
        {
          "output_type": "execute_result",
          "data": {
            "text/plain": [
              "<keras.callbacks.History at 0x7f534d9a3790>"
            ]
          },
          "metadata": {},
          "execution_count": 23
        }
      ]
    },
    {
      "cell_type": "code",
      "source": [
        "_, acc = model.evaluate(X_test, Y_test)"
      ],
      "metadata": {
        "id": "bYrIWDtXnQND",
        "colab": {
          "base_uri": "https://localhost:8080/"
        },
        "outputId": "b0404f3e-c54a-403b-bc1e-c0504f5ec904"
      },
      "execution_count": null,
      "outputs": [
        {
          "output_type": "stream",
          "name": "stdout",
          "text": [
            "313/313 [==============================] - 2s 5ms/step - loss: 0.0471 - accuracy: 0.9870\n"
          ]
        }
      ]
    },
    {
      "cell_type": "code",
      "source": [
        "acc"
      ],
      "metadata": {
        "id": "N7IfmY8rmUCt",
        "colab": {
          "base_uri": "https://localhost:8080/"
        },
        "outputId": "5adba61f-041f-44c8-df4b-f7786bb9a6c4"
      },
      "execution_count": null,
      "outputs": [
        {
          "output_type": "execute_result",
          "data": {
            "text/plain": [
              "0.9869999885559082"
            ]
          },
          "metadata": {},
          "execution_count": 25
        }
      ]
    },
    {
      "cell_type": "markdown",
      "source": [
        "#Data Augmentatio"
      ],
      "metadata": {
        "id": "kqDgJmxKM9BC"
      }
    },
    {
      "cell_type": "code",
      "source": [
        "batch_size = 32\n",
        "\n",
        "data_generator = keras.preprocessing.image.ImageDataGenerator(width_shift_range=0.1,\n",
        "                                                              height_shift_range=0.1, \n",
        "                                                              horizontal_flip=True)\n",
        "train_generator = data_generator.flow(X_train, y_train, batch_size)\n",
        "steps_per_epochs = X_train.shape[0] // batch_size\n",
        "r = model.fit_generator(train_generator, validation_data=(X_test, y_test), steps_per_epoch=steps_per_epochs, epochs = 50)"
      ],
      "metadata": {
        "colab": {
          "base_uri": "https://localhost:8080/"
        },
        "id": "I57CvY8lMt7i",
        "outputId": "386edd5b-4c71-4555-ae2c-e4bb2175a1f9"
      },
      "execution_count": null,
      "outputs": [
        {
          "output_type": "stream",
          "name": "stderr",
          "text": [
            "/usr/local/lib/python3.7/dist-packages/ipykernel_launcher.py:8: UserWarning: `Model.fit_generator` is deprecated and will be removed in a future version. Please use `Model.fit`, which supports generators.\n",
            "  \n"
          ]
        },
        {
          "output_type": "stream",
          "name": "stdout",
          "text": [
            "Epoch 1/50\n",
            "1562/1562 [==============================] - 53s 34ms/step - loss: 1.2301 - accuracy: 0.5619 - val_loss: 1.0663 - val_accuracy: 0.6272\n",
            "Epoch 2/50\n",
            "1562/1562 [==============================] - 53s 34ms/step - loss: 1.1800 - accuracy: 0.5790 - val_loss: 1.0180 - val_accuracy: 0.6432\n",
            "Epoch 3/50\n",
            "1562/1562 [==============================] - 54s 34ms/step - loss: 1.1459 - accuracy: 0.5921 - val_loss: 0.9543 - val_accuracy: 0.6598\n",
            "Epoch 4/50\n",
            "1562/1562 [==============================] - 53s 34ms/step - loss: 1.1119 - accuracy: 0.6023 - val_loss: 0.9520 - val_accuracy: 0.6577\n",
            "Epoch 5/50\n",
            "1562/1562 [==============================] - 53s 34ms/step - loss: 1.0816 - accuracy: 0.6135 - val_loss: 0.9336 - val_accuracy: 0.6717\n",
            "Epoch 6/50\n",
            "1562/1562 [==============================] - 53s 34ms/step - loss: 1.0614 - accuracy: 0.6239 - val_loss: 0.9111 - val_accuracy: 0.6784\n",
            "Epoch 7/50\n",
            "1562/1562 [==============================] - 53s 34ms/step - loss: 1.0446 - accuracy: 0.6309 - val_loss: 0.8759 - val_accuracy: 0.6906\n",
            "Epoch 8/50\n",
            "1562/1562 [==============================] - 53s 34ms/step - loss: 1.0298 - accuracy: 0.6330 - val_loss: 0.8647 - val_accuracy: 0.6971\n",
            "Epoch 9/50\n",
            "1562/1562 [==============================] - 53s 34ms/step - loss: 1.0150 - accuracy: 0.6410 - val_loss: 0.8895 - val_accuracy: 0.6886\n",
            "Epoch 10/50\n",
            "1562/1562 [==============================] - 54s 34ms/step - loss: 0.9986 - accuracy: 0.6468 - val_loss: 0.8427 - val_accuracy: 0.7073\n",
            "Epoch 11/50\n",
            "1562/1562 [==============================] - 53s 34ms/step - loss: 0.9932 - accuracy: 0.6485 - val_loss: 0.8819 - val_accuracy: 0.6887\n",
            "Epoch 12/50\n",
            "1562/1562 [==============================] - 53s 34ms/step - loss: 0.9857 - accuracy: 0.6528 - val_loss: 0.8234 - val_accuracy: 0.7126\n",
            "Epoch 13/50\n",
            "1562/1562 [==============================] - 53s 34ms/step - loss: 0.9661 - accuracy: 0.6601 - val_loss: 0.8133 - val_accuracy: 0.7218\n",
            "Epoch 14/50\n",
            "1562/1562 [==============================] - 53s 34ms/step - loss: 0.9663 - accuracy: 0.6609 - val_loss: 0.8128 - val_accuracy: 0.7238\n",
            "Epoch 15/50\n",
            "1562/1562 [==============================] - 53s 34ms/step - loss: 0.9536 - accuracy: 0.6633 - val_loss: 0.8288 - val_accuracy: 0.7201\n",
            "Epoch 16/50\n",
            "1562/1562 [==============================] - 53s 34ms/step - loss: 0.9486 - accuracy: 0.6658 - val_loss: 0.8152 - val_accuracy: 0.7160\n",
            "Epoch 17/50\n",
            "1562/1562 [==============================] - 53s 34ms/step - loss: 0.9375 - accuracy: 0.6688 - val_loss: 0.8530 - val_accuracy: 0.7018\n",
            "Epoch 18/50\n",
            "1562/1562 [==============================] - 53s 34ms/step - loss: 0.9374 - accuracy: 0.6707 - val_loss: 0.8695 - val_accuracy: 0.6960\n",
            "Epoch 19/50\n",
            "1562/1562 [==============================] - 53s 34ms/step - loss: 0.9274 - accuracy: 0.6714 - val_loss: 0.7928 - val_accuracy: 0.7272\n",
            "Epoch 20/50\n",
            "1562/1562 [==============================] - 53s 34ms/step - loss: 0.9279 - accuracy: 0.6706 - val_loss: 0.8251 - val_accuracy: 0.7165\n",
            "Epoch 21/50\n",
            "1562/1562 [==============================] - 54s 34ms/step - loss: 0.9192 - accuracy: 0.6764 - val_loss: 0.7668 - val_accuracy: 0.7348\n",
            "Epoch 22/50\n",
            "1562/1562 [==============================] - 53s 34ms/step - loss: 0.9155 - accuracy: 0.6781 - val_loss: 0.7750 - val_accuracy: 0.7389\n",
            "Epoch 23/50\n",
            "1562/1562 [==============================] - 53s 34ms/step - loss: 0.9061 - accuracy: 0.6807 - val_loss: 0.7421 - val_accuracy: 0.7514\n",
            "Epoch 24/50\n",
            "1562/1562 [==============================] - 53s 34ms/step - loss: 0.9117 - accuracy: 0.6792 - val_loss: 0.7891 - val_accuracy: 0.7271\n",
            "Epoch 25/50\n",
            "1562/1562 [==============================] - 53s 34ms/step - loss: 0.9003 - accuracy: 0.6830 - val_loss: 0.7477 - val_accuracy: 0.7486\n",
            "Epoch 26/50\n",
            "1562/1562 [==============================] - 53s 34ms/step - loss: 0.8977 - accuracy: 0.6813 - val_loss: 0.7470 - val_accuracy: 0.7502\n",
            "Epoch 27/50\n",
            "1562/1562 [==============================] - 53s 34ms/step - loss: 0.8923 - accuracy: 0.6864 - val_loss: 0.7440 - val_accuracy: 0.7520\n",
            "Epoch 28/50\n",
            "1562/1562 [==============================] - 53s 34ms/step - loss: 0.8887 - accuracy: 0.6866 - val_loss: 0.7367 - val_accuracy: 0.7543\n",
            "Epoch 29/50\n",
            "1562/1562 [==============================] - 53s 34ms/step - loss: 0.8845 - accuracy: 0.6917 - val_loss: 0.7691 - val_accuracy: 0.7382\n",
            "Epoch 30/50\n",
            "1562/1562 [==============================] - 53s 34ms/step - loss: 0.8869 - accuracy: 0.6882 - val_loss: 0.7557 - val_accuracy: 0.7385\n",
            "Epoch 31/50\n",
            "1562/1562 [==============================] - 53s 34ms/step - loss: 0.8865 - accuracy: 0.6887 - val_loss: 0.7698 - val_accuracy: 0.7346\n",
            "Epoch 32/50\n",
            "1562/1562 [==============================] - 53s 34ms/step - loss: 0.8780 - accuracy: 0.6938 - val_loss: 0.7423 - val_accuracy: 0.7481\n",
            "Epoch 33/50\n",
            "1562/1562 [==============================] - 53s 34ms/step - loss: 0.8806 - accuracy: 0.6907 - val_loss: 0.7367 - val_accuracy: 0.7540\n",
            "Epoch 34/50\n",
            "1562/1562 [==============================] - 53s 34ms/step - loss: 0.8695 - accuracy: 0.6973 - val_loss: 0.7561 - val_accuracy: 0.7414\n",
            "Epoch 35/50\n",
            "1562/1562 [==============================] - 53s 34ms/step - loss: 0.8743 - accuracy: 0.6943 - val_loss: 0.7432 - val_accuracy: 0.7437\n",
            "Epoch 36/50\n",
            "1562/1562 [==============================] - 53s 34ms/step - loss: 0.8632 - accuracy: 0.6964 - val_loss: 0.7506 - val_accuracy: 0.7467\n",
            "Epoch 37/50\n",
            "1562/1562 [==============================] - 53s 34ms/step - loss: 0.8634 - accuracy: 0.6951 - val_loss: 0.7716 - val_accuracy: 0.7516\n",
            "Epoch 38/50\n",
            "1562/1562 [==============================] - 53s 34ms/step - loss: 0.8649 - accuracy: 0.6985 - val_loss: 0.7551 - val_accuracy: 0.7442\n",
            "Epoch 39/50\n",
            "1562/1562 [==============================] - 53s 34ms/step - loss: 0.8612 - accuracy: 0.7004 - val_loss: 0.7771 - val_accuracy: 0.7353\n",
            "Epoch 40/50\n",
            "1562/1562 [==============================] - 53s 34ms/step - loss: 0.8638 - accuracy: 0.6979 - val_loss: 0.7692 - val_accuracy: 0.7440\n",
            "Epoch 41/50\n",
            "1562/1562 [==============================] - 53s 34ms/step - loss: 0.8572 - accuracy: 0.7019 - val_loss: 0.7052 - val_accuracy: 0.7639\n",
            "Epoch 42/50\n",
            "1562/1562 [==============================] - 53s 34ms/step - loss: 0.8555 - accuracy: 0.7023 - val_loss: 0.7177 - val_accuracy: 0.7611\n",
            "Epoch 43/50\n",
            "1562/1562 [==============================] - 53s 34ms/step - loss: 0.8494 - accuracy: 0.7018 - val_loss: 0.7454 - val_accuracy: 0.7425\n",
            "Epoch 44/50\n",
            "1562/1562 [==============================] - 53s 34ms/step - loss: 0.8444 - accuracy: 0.7064 - val_loss: 0.7037 - val_accuracy: 0.7593\n",
            "Epoch 45/50\n",
            "1562/1562 [==============================] - 53s 34ms/step - loss: 0.8553 - accuracy: 0.7023 - val_loss: 0.7294 - val_accuracy: 0.7521\n",
            "Epoch 46/50\n",
            "1562/1562 [==============================] - 53s 34ms/step - loss: 0.8468 - accuracy: 0.7037 - val_loss: 0.7107 - val_accuracy: 0.7574\n",
            "Epoch 47/50\n",
            "1562/1562 [==============================] - 53s 34ms/step - loss: 0.8412 - accuracy: 0.7062 - val_loss: 0.7250 - val_accuracy: 0.7536\n",
            "Epoch 48/50\n",
            "1562/1562 [==============================] - 53s 34ms/step - loss: 0.8384 - accuracy: 0.7088 - val_loss: 0.7139 - val_accuracy: 0.7623\n",
            "Epoch 49/50\n",
            "1562/1562 [==============================] - 53s 34ms/step - loss: 0.8434 - accuracy: 0.7060 - val_loss: 0.7077 - val_accuracy: 0.7591\n",
            "Epoch 50/50\n",
            "1562/1562 [==============================] - 53s 34ms/step - loss: 0.8433 - accuracy: 0.7067 - val_loss: 0.7291 - val_accuracy: 0.7573\n"
          ]
        }
      ]
    },
    {
      "cell_type": "code",
      "source": [
        "predictions=model.predict(X_test)\n",
        "predictions"
      ],
      "metadata": {
        "id": "eRQoHJoIkz2T",
        "colab": {
          "base_uri": "https://localhost:8080/"
        },
        "outputId": "631f7445-70d1-48e9-c01d-a08ec4127b8b"
      },
      "execution_count": null,
      "outputs": [
        {
          "output_type": "execute_result",
          "data": {
            "text/plain": [
              "array([[6.44008347e-10, 9.77741221e-11, 3.04914707e-08, ...,\n",
              "        9.99999642e-01, 3.57222224e-10, 3.30761973e-09],\n",
              "       [6.88844554e-12, 6.49767173e-09, 1.00000000e+00, ...,\n",
              "        1.60616420e-14, 2.85765172e-13, 2.85825789e-16],\n",
              "       [4.96384160e-08, 9.99984503e-01, 2.06954397e-07, ...,\n",
              "        8.00886392e-06, 2.44880198e-06, 8.39891268e-09],\n",
              "       ...,\n",
              "       [1.65315240e-18, 1.78306016e-11, 3.90370313e-14, ...,\n",
              "        2.33569661e-08, 4.44870940e-09, 2.18039578e-08],\n",
              "       [1.51616549e-11, 1.35343098e-13, 4.38439730e-13, ...,\n",
              "        9.85697120e-14, 1.57195784e-04, 1.00682876e-13],\n",
              "       [8.63726590e-11, 1.05934933e-12, 5.51544366e-11, ...,\n",
              "        4.34384787e-13, 1.37259426e-10, 4.20433202e-11]], dtype=float32)"
            ]
          },
          "metadata": {},
          "execution_count": 26
        }
      ]
    },
    {
      "cell_type": "code",
      "source": [
        "predictions[0].argmax()"
      ],
      "metadata": {
        "id": "dBsQumvJqRj9",
        "colab": {
          "base_uri": "https://localhost:8080/"
        },
        "outputId": "a879b0b0-c5be-4f69-e30b-c6e9374662ce"
      },
      "execution_count": null,
      "outputs": [
        {
          "output_type": "execute_result",
          "data": {
            "text/plain": [
              "7"
            ]
          },
          "metadata": {},
          "execution_count": 27
        }
      ]
    },
    {
      "cell_type": "code",
      "source": [
        "Y_test[0]"
      ],
      "metadata": {
        "id": "SoGBblFOq3kH",
        "colab": {
          "base_uri": "https://localhost:8080/"
        },
        "outputId": "493b5ab9-07ef-4803-8dcb-b0e1e6f34240"
      },
      "execution_count": null,
      "outputs": [
        {
          "output_type": "execute_result",
          "data": {
            "text/plain": [
              "array([0., 0., 0., 0., 0., 0., 0., 1., 0., 0.], dtype=float32)"
            ]
          },
          "metadata": {},
          "execution_count": 28
        }
      ]
    },
    {
      "cell_type": "code",
      "source": [
        "# # plot diagnostic learning curves\n",
        "# def summarize_diagnostics(histories):\n",
        "# \tfor i in range(len(histories)):\n",
        "# \t\t# plot loss\n",
        "# \t\tpyplot.subplot(211)\n",
        "# \t\tpyplot.title('Cross Entropy Loss')\n",
        "# \t\tpyplot.plot(histories[i].history['loss'], color='blue', label='train')\n",
        "# \t\tpyplot.plot(histories[i].history['val_loss'], color='orange', label='test')\n",
        "# \t\t# plot accuracy\n",
        "# \t\tpyplot.subplot(212)\n",
        "# \t\tpyplot.title('Classification Accuracy')\n",
        "# \t\tpyplot.plot(histories[i].history['accuracy'], color='blue', label='train')\n",
        "# \t\tpyplot.plot(histories[i].history['val_accuracy'], color='orange', label='test')\n",
        "# \tpyplot.show()\n",
        " "
      ],
      "metadata": {
        "id": "GGrG7HKh-_vq"
      },
      "execution_count": null,
      "outputs": []
    },
    {
      "cell_type": "code",
      "source": [
        "from keras.models import model_from_json"
      ],
      "metadata": {
        "id": "bKLs8FCorl1I"
      },
      "execution_count": null,
      "outputs": []
    },
    {
      "cell_type": "code",
      "source": [
        "# serialize model to JSON\n",
        "model_json = model.to_json()\n",
        "with open(\"model.json\", \"w\") as json_file:\n",
        "    json_file.write(model_json)\n",
        "# serialize weights to HDF5\n",
        "model.save_weights(\"model.h5\")\n",
        "print(\"Saved model to disk\")"
      ],
      "metadata": {
        "id": "fyPo7FUqrn2Z",
        "colab": {
          "base_uri": "https://localhost:8080/"
        },
        "outputId": "789bb3a7-b075-43d7-8c38-b368842b90be"
      },
      "execution_count": null,
      "outputs": [
        {
          "output_type": "stream",
          "name": "stdout",
          "text": [
            "Saved model to disk\n"
          ]
        }
      ]
    },
    {
      "cell_type": "code",
      "source": [
        "# load json and create model\n",
        "json_file = open('model.json', 'r')\n",
        "loaded_model_json = json_file.read()\n",
        "json_file.close()\n",
        "loaded_model = model_from_json(loaded_model_json)\n",
        "# load weights into new model\n",
        "loaded_model.load_weights(\"model.h5\")\n",
        "print(\"Loaded model from disk\")"
      ],
      "metadata": {
        "id": "qw0nkb-BsjYs",
        "colab": {
          "base_uri": "https://localhost:8080/"
        },
        "outputId": "2b7bec2b-b235-4bd7-cdc2-5b67b3fde642"
      },
      "execution_count": null,
      "outputs": [
        {
          "output_type": "stream",
          "name": "stdout",
          "text": [
            "Loaded model from disk\n"
          ]
        }
      ]
    },
    {
      "cell_type": "code",
      "source": [
        "loaded_model.compile(loss='binary_crossentropy', optimizer='rmsprop', metrics=['accuracy'])\n",
        "score = loaded_model.evaluate(testX, testY)"
      ],
      "metadata": {
        "id": "lwY4i2D6tReg",
        "colab": {
          "base_uri": "https://localhost:8080/"
        },
        "outputId": "71012a09-3a7e-49c5-ab29-65c74034d6e4"
      },
      "execution_count": null,
      "outputs": [
        {
          "output_type": "stream",
          "name": "stdout",
          "text": [
            "313/313 [==============================] - 2s 5ms/step - loss: 0.8483 - accuracy: 0.1135\n"
          ]
        }
      ]
    },
    {
      "cell_type": "code",
      "source": [
        "accuracy=score[1]*100\n",
        "accuracy"
      ],
      "metadata": {
        "id": "_8cijaK1wygV",
        "colab": {
          "base_uri": "https://localhost:8080/"
        },
        "outputId": "bb7a43e5-6e03-4168-fc36-db4d0eea74f4"
      },
      "execution_count": null,
      "outputs": [
        {
          "output_type": "execute_result",
          "data": {
            "text/plain": [
              "11.349999904632568"
            ]
          },
          "metadata": {},
          "execution_count": 44
        }
      ]
    },
    {
      "cell_type": "code",
      "source": [
        ""
      ],
      "metadata": {
        "id": "8AZkQLiyICXc"
      },
      "execution_count": null,
      "outputs": []
    },
    {
      "cell_type": "code",
      "source": [
        ""
      ],
      "metadata": {
        "id": "ABq-qsA5Kg6d"
      },
      "execution_count": null,
      "outputs": []
    },
    {
      "cell_type": "code",
      "source": [
        "import tensorflow as tf\n",
        "from tensorflow import keras"
      ],
      "metadata": {
        "id": "Zc8sfRflLaDR"
      },
      "execution_count": null,
      "outputs": []
    },
    {
      "cell_type": "code",
      "source": [
        "from keras.datasets import cifar10"
      ],
      "metadata": {
        "id": "ifyRZCjYLa1l"
      },
      "execution_count": null,
      "outputs": []
    },
    {
      "cell_type": "code",
      "source": [
        "(X_train, y_train), (X_test, y_test) = cifar10.load_data()"
      ],
      "metadata": {
        "colab": {
          "base_uri": "https://localhost:8080/"
        },
        "id": "GxzhQYNsLixv",
        "outputId": "164fe7c6-bd88-4f2a-c56f-8cd261a1b809"
      },
      "execution_count": null,
      "outputs": [
        {
          "output_type": "stream",
          "name": "stdout",
          "text": [
            "Downloading data from https://www.cs.toronto.edu/~kriz/cifar-10-python.tar.gz\n",
            "170500096/170498071 [==============================] - 4s 0us/step\n",
            "170508288/170498071 [==============================] - 4s 0us/step\n"
          ]
        }
      ]
    },
    {
      "cell_type": "code",
      "source": [
        "print(X_train.shape)\n",
        "print(y_train.shape)\n",
        "print(X_test.shape)\n",
        "print(y_test.shape)"
      ],
      "metadata": {
        "colab": {
          "base_uri": "https://localhost:8080/"
        },
        "id": "JgIpUOQ_Lnhy",
        "outputId": "0a5ab7ed-a35d-4225-abdd-523209bf40b5"
      },
      "execution_count": null,
      "outputs": [
        {
          "output_type": "stream",
          "name": "stdout",
          "text": [
            "(50000, 32, 32, 3)\n",
            "(50000, 1)\n",
            "(10000, 32, 32, 3)\n",
            "(10000, 1)\n"
          ]
        }
      ]
    },
    {
      "cell_type": "code",
      "source": [
        "D = (X_train[0].shape)\n",
        "print(D)"
      ],
      "metadata": {
        "colab": {
          "base_uri": "https://localhost:8080/"
        },
        "id": "c0qd03p2LsV4",
        "outputId": "79501851-8cea-44fb-8506-ab10e2cfe44d"
      },
      "execution_count": null,
      "outputs": [
        {
          "output_type": "stream",
          "name": "stdout",
          "text": [
            "(32, 32, 3)\n"
          ]
        }
      ]
    },
    {
      "cell_type": "code",
      "source": [
        "X_train, X_test = X_train/255, X_test/255  ## Scaling\n",
        "\n",
        "y_train, y_test = y_train.flatten(), y_test.flatten()"
      ],
      "metadata": {
        "id": "O6AxfsjHLw7V"
      },
      "execution_count": null,
      "outputs": []
    },
    {
      "cell_type": "code",
      "source": [
        "\n",
        "\n",
        "print(y_train.shape)\n",
        "print(y_test.shape)\n",
        "\n"
      ],
      "metadata": {
        "colab": {
          "base_uri": "https://localhost:8080/"
        },
        "id": "0cOAHBOLL0yJ",
        "outputId": "757b097c-0f46-442f-9664-f6fb749f6a87"
      },
      "execution_count": null,
      "outputs": [
        {
          "output_type": "stream",
          "name": "stdout",
          "text": [
            "(50000,)\n",
            "(10000,)\n"
          ]
        }
      ]
    },
    {
      "cell_type": "code",
      "source": [
        "K = len(set(y_train))\n",
        "K  # Classes"
      ],
      "metadata": {
        "colab": {
          "base_uri": "https://localhost:8080/"
        },
        "id": "F0XSps0FL3yI",
        "outputId": "ed2dd72c-06b9-4f23-f772-00b92daffcfd"
      },
      "execution_count": null,
      "outputs": [
        {
          "output_type": "execute_result",
          "data": {
            "text/plain": [
              "10"
            ]
          },
          "metadata": {},
          "execution_count": 55
        }
      ]
    },
    {
      "cell_type": "code",
      "source": [
        "from keras.layers import Input, Dense, Dropout, Flatten, Conv2D\n",
        "from keras.models import Model\n",
        "\n",
        "i = Input(shape = (D))\n",
        "x = Conv2D(32, (3,3), strides=2, activation='relu')(i)\n",
        "x = Conv2D(64, (3,3), strides=2, activation='relu')(x)\n",
        "x = Conv2D(128, (3,3), strides=2, activation='relu')(x)\n",
        "#x = Conv2D(256, (3,3), strides=2, activation='relu')(x)\n",
        "x = Flatten()(x)\n",
        "x = Dropout(0.5)(x)\n",
        "x = Dense(512, activation='relu')(x)\n",
        "#x = Dense(2048, activation='relu')(x)\n",
        "x = Dropout(0.2)(x)\n",
        "x = Dense(K, activation='softmax')(x)"
      ],
      "metadata": {
        "id": "fGv_W-whMAzg"
      },
      "execution_count": null,
      "outputs": []
    },
    {
      "cell_type": "code",
      "source": [
        "model = Model(i, x)\n"
      ],
      "metadata": {
        "id": "Uu9RfipLMErP"
      },
      "execution_count": null,
      "outputs": []
    },
    {
      "cell_type": "code",
      "source": [
        "model.compile(optimizer='adam', loss='sparse_categorical_crossentropy', metrics=['accuracy'])"
      ],
      "metadata": {
        "id": "9VEz45B5ML72"
      },
      "execution_count": null,
      "outputs": []
    },
    {
      "cell_type": "code",
      "source": [
        "model.fit(X_train, y_train, validation_data=(X_test, y_test), epochs = 15)"
      ],
      "metadata": {
        "colab": {
          "base_uri": "https://localhost:8080/",
          "height": 451
        },
        "id": "ksrK0BGBMSxj",
        "outputId": "f2dfaecb-d425-4a47-c616-ebdb4750de3e"
      },
      "execution_count": null,
      "outputs": [
        {
          "output_type": "stream",
          "name": "stdout",
          "text": [
            "Epoch 1/15\n",
            "1563/1563 [==============================] - 32s 20ms/step - loss: 1.6066 - accuracy: 0.4149 - val_loss: 1.3053 - val_accuracy: 0.5308\n",
            "Epoch 2/15\n",
            "1563/1563 [==============================] - 30s 19ms/step - loss: 1.3232 - accuracy: 0.5231 - val_loss: 1.1580 - val_accuracy: 0.5789\n",
            "Epoch 3/15\n",
            "1563/1563 [==============================] - 31s 20ms/step - loss: 1.2041 - accuracy: 0.5689 - val_loss: 1.1310 - val_accuracy: 0.6035\n",
            "Epoch 4/15\n",
            "1047/1563 [===================>..........] - ETA: 9s - loss: 1.1231 - accuracy: 0.5984"
          ]
        },
        {
          "output_type": "error",
          "ename": "KeyboardInterrupt",
          "evalue": "ignored",
          "traceback": [
            "\u001b[0;31m---------------------------------------------------------------------------\u001b[0m",
            "\u001b[0;31mKeyboardInterrupt\u001b[0m                         Traceback (most recent call last)",
            "\u001b[0;32m<ipython-input-61-2c61b4600429>\u001b[0m in \u001b[0;36m<module>\u001b[0;34m()\u001b[0m\n\u001b[0;32m----> 1\u001b[0;31m \u001b[0mmodel\u001b[0m\u001b[0;34m.\u001b[0m\u001b[0mfit\u001b[0m\u001b[0;34m(\u001b[0m\u001b[0mX_train\u001b[0m\u001b[0;34m,\u001b[0m \u001b[0my_train\u001b[0m\u001b[0;34m,\u001b[0m \u001b[0mvalidation_data\u001b[0m\u001b[0;34m=\u001b[0m\u001b[0;34m(\u001b[0m\u001b[0mX_test\u001b[0m\u001b[0;34m,\u001b[0m \u001b[0my_test\u001b[0m\u001b[0;34m)\u001b[0m\u001b[0;34m,\u001b[0m \u001b[0mepochs\u001b[0m \u001b[0;34m=\u001b[0m \u001b[0;36m15\u001b[0m\u001b[0;34m)\u001b[0m\u001b[0;34m\u001b[0m\u001b[0;34m\u001b[0m\u001b[0m\n\u001b[0m",
            "\u001b[0;32m/usr/local/lib/python3.7/dist-packages/keras/utils/traceback_utils.py\u001b[0m in \u001b[0;36merror_handler\u001b[0;34m(*args, **kwargs)\u001b[0m\n\u001b[1;32m     62\u001b[0m     \u001b[0mfiltered_tb\u001b[0m \u001b[0;34m=\u001b[0m \u001b[0;32mNone\u001b[0m\u001b[0;34m\u001b[0m\u001b[0;34m\u001b[0m\u001b[0m\n\u001b[1;32m     63\u001b[0m     \u001b[0;32mtry\u001b[0m\u001b[0;34m:\u001b[0m\u001b[0;34m\u001b[0m\u001b[0;34m\u001b[0m\u001b[0m\n\u001b[0;32m---> 64\u001b[0;31m       \u001b[0;32mreturn\u001b[0m \u001b[0mfn\u001b[0m\u001b[0;34m(\u001b[0m\u001b[0;34m*\u001b[0m\u001b[0margs\u001b[0m\u001b[0;34m,\u001b[0m \u001b[0;34m**\u001b[0m\u001b[0mkwargs\u001b[0m\u001b[0;34m)\u001b[0m\u001b[0;34m\u001b[0m\u001b[0;34m\u001b[0m\u001b[0m\n\u001b[0m\u001b[1;32m     65\u001b[0m     \u001b[0;32mexcept\u001b[0m \u001b[0mException\u001b[0m \u001b[0;32mas\u001b[0m \u001b[0me\u001b[0m\u001b[0;34m:\u001b[0m  \u001b[0;31m# pylint: disable=broad-except\u001b[0m\u001b[0;34m\u001b[0m\u001b[0;34m\u001b[0m\u001b[0m\n\u001b[1;32m     66\u001b[0m       \u001b[0mfiltered_tb\u001b[0m \u001b[0;34m=\u001b[0m \u001b[0m_process_traceback_frames\u001b[0m\u001b[0;34m(\u001b[0m\u001b[0me\u001b[0m\u001b[0;34m.\u001b[0m\u001b[0m__traceback__\u001b[0m\u001b[0;34m)\u001b[0m\u001b[0;34m\u001b[0m\u001b[0;34m\u001b[0m\u001b[0m\n",
            "\u001b[0;32m/usr/local/lib/python3.7/dist-packages/keras/engine/training.py\u001b[0m in \u001b[0;36mfit\u001b[0;34m(self, x, y, batch_size, epochs, verbose, callbacks, validation_split, validation_data, shuffle, class_weight, sample_weight, initial_epoch, steps_per_epoch, validation_steps, validation_batch_size, validation_freq, max_queue_size, workers, use_multiprocessing)\u001b[0m\n\u001b[1;32m   1214\u001b[0m                 _r=1):\n\u001b[1;32m   1215\u001b[0m               \u001b[0mcallbacks\u001b[0m\u001b[0;34m.\u001b[0m\u001b[0mon_train_batch_begin\u001b[0m\u001b[0;34m(\u001b[0m\u001b[0mstep\u001b[0m\u001b[0;34m)\u001b[0m\u001b[0;34m\u001b[0m\u001b[0;34m\u001b[0m\u001b[0m\n\u001b[0;32m-> 1216\u001b[0;31m               \u001b[0mtmp_logs\u001b[0m \u001b[0;34m=\u001b[0m \u001b[0mself\u001b[0m\u001b[0;34m.\u001b[0m\u001b[0mtrain_function\u001b[0m\u001b[0;34m(\u001b[0m\u001b[0miterator\u001b[0m\u001b[0;34m)\u001b[0m\u001b[0;34m\u001b[0m\u001b[0;34m\u001b[0m\u001b[0m\n\u001b[0m\u001b[1;32m   1217\u001b[0m               \u001b[0;32mif\u001b[0m \u001b[0mdata_handler\u001b[0m\u001b[0;34m.\u001b[0m\u001b[0mshould_sync\u001b[0m\u001b[0;34m:\u001b[0m\u001b[0;34m\u001b[0m\u001b[0;34m\u001b[0m\u001b[0m\n\u001b[1;32m   1218\u001b[0m                 \u001b[0mcontext\u001b[0m\u001b[0;34m.\u001b[0m\u001b[0masync_wait\u001b[0m\u001b[0;34m(\u001b[0m\u001b[0;34m)\u001b[0m\u001b[0;34m\u001b[0m\u001b[0;34m\u001b[0m\u001b[0m\n",
            "\u001b[0;32m/usr/local/lib/python3.7/dist-packages/tensorflow/python/util/traceback_utils.py\u001b[0m in \u001b[0;36merror_handler\u001b[0;34m(*args, **kwargs)\u001b[0m\n\u001b[1;32m    148\u001b[0m     \u001b[0mfiltered_tb\u001b[0m \u001b[0;34m=\u001b[0m \u001b[0;32mNone\u001b[0m\u001b[0;34m\u001b[0m\u001b[0;34m\u001b[0m\u001b[0m\n\u001b[1;32m    149\u001b[0m     \u001b[0;32mtry\u001b[0m\u001b[0;34m:\u001b[0m\u001b[0;34m\u001b[0m\u001b[0;34m\u001b[0m\u001b[0m\n\u001b[0;32m--> 150\u001b[0;31m       \u001b[0;32mreturn\u001b[0m \u001b[0mfn\u001b[0m\u001b[0;34m(\u001b[0m\u001b[0;34m*\u001b[0m\u001b[0margs\u001b[0m\u001b[0;34m,\u001b[0m \u001b[0;34m**\u001b[0m\u001b[0mkwargs\u001b[0m\u001b[0;34m)\u001b[0m\u001b[0;34m\u001b[0m\u001b[0;34m\u001b[0m\u001b[0m\n\u001b[0m\u001b[1;32m    151\u001b[0m     \u001b[0;32mexcept\u001b[0m \u001b[0mException\u001b[0m \u001b[0;32mas\u001b[0m \u001b[0me\u001b[0m\u001b[0;34m:\u001b[0m\u001b[0;34m\u001b[0m\u001b[0;34m\u001b[0m\u001b[0m\n\u001b[1;32m    152\u001b[0m       \u001b[0mfiltered_tb\u001b[0m \u001b[0;34m=\u001b[0m \u001b[0m_process_traceback_frames\u001b[0m\u001b[0;34m(\u001b[0m\u001b[0me\u001b[0m\u001b[0;34m.\u001b[0m\u001b[0m__traceback__\u001b[0m\u001b[0;34m)\u001b[0m\u001b[0;34m\u001b[0m\u001b[0;34m\u001b[0m\u001b[0m\n",
            "\u001b[0;32m/usr/local/lib/python3.7/dist-packages/tensorflow/python/eager/def_function.py\u001b[0m in \u001b[0;36m__call__\u001b[0;34m(self, *args, **kwds)\u001b[0m\n\u001b[1;32m    908\u001b[0m \u001b[0;34m\u001b[0m\u001b[0m\n\u001b[1;32m    909\u001b[0m       \u001b[0;32mwith\u001b[0m \u001b[0mOptionalXlaContext\u001b[0m\u001b[0;34m(\u001b[0m\u001b[0mself\u001b[0m\u001b[0;34m.\u001b[0m\u001b[0m_jit_compile\u001b[0m\u001b[0;34m)\u001b[0m\u001b[0;34m:\u001b[0m\u001b[0;34m\u001b[0m\u001b[0;34m\u001b[0m\u001b[0m\n\u001b[0;32m--> 910\u001b[0;31m         \u001b[0mresult\u001b[0m \u001b[0;34m=\u001b[0m \u001b[0mself\u001b[0m\u001b[0;34m.\u001b[0m\u001b[0m_call\u001b[0m\u001b[0;34m(\u001b[0m\u001b[0;34m*\u001b[0m\u001b[0margs\u001b[0m\u001b[0;34m,\u001b[0m \u001b[0;34m**\u001b[0m\u001b[0mkwds\u001b[0m\u001b[0;34m)\u001b[0m\u001b[0;34m\u001b[0m\u001b[0;34m\u001b[0m\u001b[0m\n\u001b[0m\u001b[1;32m    911\u001b[0m \u001b[0;34m\u001b[0m\u001b[0m\n\u001b[1;32m    912\u001b[0m       \u001b[0mnew_tracing_count\u001b[0m \u001b[0;34m=\u001b[0m \u001b[0mself\u001b[0m\u001b[0;34m.\u001b[0m\u001b[0mexperimental_get_tracing_count\u001b[0m\u001b[0;34m(\u001b[0m\u001b[0;34m)\u001b[0m\u001b[0;34m\u001b[0m\u001b[0;34m\u001b[0m\u001b[0m\n",
            "\u001b[0;32m/usr/local/lib/python3.7/dist-packages/tensorflow/python/eager/def_function.py\u001b[0m in \u001b[0;36m_call\u001b[0;34m(self, *args, **kwds)\u001b[0m\n\u001b[1;32m    940\u001b[0m       \u001b[0;31m# In this case we have created variables on the first call, so we run the\u001b[0m\u001b[0;34m\u001b[0m\u001b[0;34m\u001b[0m\u001b[0;34m\u001b[0m\u001b[0m\n\u001b[1;32m    941\u001b[0m       \u001b[0;31m# defunned version which is guaranteed to never create variables.\u001b[0m\u001b[0;34m\u001b[0m\u001b[0;34m\u001b[0m\u001b[0;34m\u001b[0m\u001b[0m\n\u001b[0;32m--> 942\u001b[0;31m       \u001b[0;32mreturn\u001b[0m \u001b[0mself\u001b[0m\u001b[0;34m.\u001b[0m\u001b[0m_stateless_fn\u001b[0m\u001b[0;34m(\u001b[0m\u001b[0;34m*\u001b[0m\u001b[0margs\u001b[0m\u001b[0;34m,\u001b[0m \u001b[0;34m**\u001b[0m\u001b[0mkwds\u001b[0m\u001b[0;34m)\u001b[0m  \u001b[0;31m# pylint: disable=not-callable\u001b[0m\u001b[0;34m\u001b[0m\u001b[0;34m\u001b[0m\u001b[0m\n\u001b[0m\u001b[1;32m    943\u001b[0m     \u001b[0;32melif\u001b[0m \u001b[0mself\u001b[0m\u001b[0;34m.\u001b[0m\u001b[0m_stateful_fn\u001b[0m \u001b[0;32mis\u001b[0m \u001b[0;32mnot\u001b[0m \u001b[0;32mNone\u001b[0m\u001b[0;34m:\u001b[0m\u001b[0;34m\u001b[0m\u001b[0;34m\u001b[0m\u001b[0m\n\u001b[1;32m    944\u001b[0m       \u001b[0;31m# Release the lock early so that multiple threads can perform the call\u001b[0m\u001b[0;34m\u001b[0m\u001b[0;34m\u001b[0m\u001b[0;34m\u001b[0m\u001b[0m\n",
            "\u001b[0;32m/usr/local/lib/python3.7/dist-packages/tensorflow/python/eager/function.py\u001b[0m in \u001b[0;36m__call__\u001b[0;34m(self, *args, **kwargs)\u001b[0m\n\u001b[1;32m   3129\u001b[0m        filtered_flat_args) = self._maybe_define_function(args, kwargs)\n\u001b[1;32m   3130\u001b[0m     return graph_function._call_flat(\n\u001b[0;32m-> 3131\u001b[0;31m         filtered_flat_args, captured_inputs=graph_function.captured_inputs)  # pylint: disable=protected-access\n\u001b[0m\u001b[1;32m   3132\u001b[0m \u001b[0;34m\u001b[0m\u001b[0m\n\u001b[1;32m   3133\u001b[0m   \u001b[0;34m@\u001b[0m\u001b[0mproperty\u001b[0m\u001b[0;34m\u001b[0m\u001b[0;34m\u001b[0m\u001b[0m\n",
            "\u001b[0;32m/usr/local/lib/python3.7/dist-packages/tensorflow/python/eager/function.py\u001b[0m in \u001b[0;36m_call_flat\u001b[0;34m(self, args, captured_inputs, cancellation_manager)\u001b[0m\n\u001b[1;32m   1958\u001b[0m       \u001b[0;31m# No tape is watching; skip to running the function.\u001b[0m\u001b[0;34m\u001b[0m\u001b[0;34m\u001b[0m\u001b[0;34m\u001b[0m\u001b[0m\n\u001b[1;32m   1959\u001b[0m       return self._build_call_outputs(self._inference_function.call(\n\u001b[0;32m-> 1960\u001b[0;31m           ctx, args, cancellation_manager=cancellation_manager))\n\u001b[0m\u001b[1;32m   1961\u001b[0m     forward_backward = self._select_forward_and_backward_functions(\n\u001b[1;32m   1962\u001b[0m         \u001b[0margs\u001b[0m\u001b[0;34m,\u001b[0m\u001b[0;34m\u001b[0m\u001b[0;34m\u001b[0m\u001b[0m\n",
            "\u001b[0;32m/usr/local/lib/python3.7/dist-packages/tensorflow/python/eager/function.py\u001b[0m in \u001b[0;36mcall\u001b[0;34m(self, ctx, args, cancellation_manager)\u001b[0m\n\u001b[1;32m    601\u001b[0m               \u001b[0minputs\u001b[0m\u001b[0;34m=\u001b[0m\u001b[0margs\u001b[0m\u001b[0;34m,\u001b[0m\u001b[0;34m\u001b[0m\u001b[0;34m\u001b[0m\u001b[0m\n\u001b[1;32m    602\u001b[0m               \u001b[0mattrs\u001b[0m\u001b[0;34m=\u001b[0m\u001b[0mattrs\u001b[0m\u001b[0;34m,\u001b[0m\u001b[0;34m\u001b[0m\u001b[0;34m\u001b[0m\u001b[0m\n\u001b[0;32m--> 603\u001b[0;31m               ctx=ctx)\n\u001b[0m\u001b[1;32m    604\u001b[0m         \u001b[0;32melse\u001b[0m\u001b[0;34m:\u001b[0m\u001b[0;34m\u001b[0m\u001b[0;34m\u001b[0m\u001b[0m\n\u001b[1;32m    605\u001b[0m           outputs = execute.execute_with_cancellation(\n",
            "\u001b[0;32m/usr/local/lib/python3.7/dist-packages/tensorflow/python/eager/execute.py\u001b[0m in \u001b[0;36mquick_execute\u001b[0;34m(op_name, num_outputs, inputs, attrs, ctx, name)\u001b[0m\n\u001b[1;32m     57\u001b[0m     \u001b[0mctx\u001b[0m\u001b[0;34m.\u001b[0m\u001b[0mensure_initialized\u001b[0m\u001b[0;34m(\u001b[0m\u001b[0;34m)\u001b[0m\u001b[0;34m\u001b[0m\u001b[0;34m\u001b[0m\u001b[0m\n\u001b[1;32m     58\u001b[0m     tensors = pywrap_tfe.TFE_Py_Execute(ctx._handle, device_name, op_name,\n\u001b[0;32m---> 59\u001b[0;31m                                         inputs, attrs, num_outputs)\n\u001b[0m\u001b[1;32m     60\u001b[0m   \u001b[0;32mexcept\u001b[0m \u001b[0mcore\u001b[0m\u001b[0;34m.\u001b[0m\u001b[0m_NotOkStatusException\u001b[0m \u001b[0;32mas\u001b[0m \u001b[0me\u001b[0m\u001b[0;34m:\u001b[0m\u001b[0;34m\u001b[0m\u001b[0;34m\u001b[0m\u001b[0m\n\u001b[1;32m     61\u001b[0m     \u001b[0;32mif\u001b[0m \u001b[0mname\u001b[0m \u001b[0;32mis\u001b[0m \u001b[0;32mnot\u001b[0m \u001b[0;32mNone\u001b[0m\u001b[0;34m:\u001b[0m\u001b[0;34m\u001b[0m\u001b[0;34m\u001b[0m\u001b[0m\n",
            "\u001b[0;31mKeyboardInterrupt\u001b[0m: "
          ]
        }
      ]
    },
    {
      "cell_type": "code",
      "source": [
        ""
      ],
      "metadata": {
        "id": "F9TTtwCpMXlN"
      },
      "execution_count": null,
      "outputs": []
    }
  ]
}